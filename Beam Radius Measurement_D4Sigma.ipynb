{
 "cells": [
  {
   "cell_type": "code",
   "execution_count": 2,
   "id": "20e007f6",
   "metadata": {},
   "outputs": [],
   "source": [
    "import numpy as np\n",
    "import matplotlib.pyplot as plt"
   ]
  },
  {
   "cell_type": "markdown",
   "id": "e81bbaa2",
   "metadata": {},
   "source": [
    "The codes below calculates the beam radius according to the D4Sigma definition following ISO 11146-1 section 9. The intensity of the image imported was read as a matrix of grey values. The total intensity is calculated as a sum of the grey values of the image. Beam centroid and the beam radius were then calculated\n"
   ]
  },
  {
   "cell_type": "code",
   "execution_count": 53,
   "id": "3530f2de",
   "metadata": {
    "scrolled": false
   },
   "outputs": [
    {
     "name": "stdout",
     "output_type": "stream",
     "text": [
      "13.02576653656877 13.776264195889317\n",
      "13.484549380466666 13.595851935726367\n"
     ]
    }
   ],
   "source": [
    "I = plt.imread('24-1.tif')\n",
    "height, width = I.shape # rows, columns\n",
    "\n",
    "scale = 0.10350 # um/pixel\n",
    "\n",
    "#Create x and y coordinates of the image\n",
    "x = np.arange(0,width * scale,scale)\n",
    "#print(x.shape)\n",
    "y = np.arange(0,height* scale,scale)\n",
    "X, Y = np.meshgrid(x,y)\n",
    "\n",
    "# Total intensity over the area\n",
    "N = I.sum()\n",
    "\n",
    "# Centroid\n",
    "x_bar = np.multiply(X,I).sum()/N #elementwise multiplication\n",
    "y_bar = np.multiply(Y,I).sum()/N\n",
    "\n",
    "# D4sig \n",
    "dis_x = X - x_bar * np.ones([height,width])\n",
    "dis_sqr_x = np.multiply(dis_x,dis_x)\n",
    "\n",
    "var = np.multiply(dis_sqr_x, I).sum()/N\n",
    "wx = np.sqrt(4 * var)\n",
    "\n",
    "dis_y = Y - y_bar * np.ones([height,width])\n",
    "dis_sqr_y = np.multiply(dis_y,dis_y)\n",
    "\n",
    "var = np.multiply(dis_sqr_y, I).sum()/N\n",
    "wy = np.sqrt(4 * var)\n",
    "\n",
    "print('Beam radius in x direction',wx)\n",
    "\n",
    "print('Beam radius in y direction',wy)"
   ]
  },
  {
   "cell_type": "markdown",
   "id": "34134ad9",
   "metadata": {},
   "source": [
    "The cells below creates a synthetic Gaussian beam and calculate the beam radius in the same way as a test."
   ]
  },
  {
   "cell_type": "code",
   "execution_count": 40,
   "id": "02301db2",
   "metadata": {
    "scrolled": true
   },
   "outputs": [
    {
     "data": {
      "image/png": "[encoded data removed]",
      "text/plain": [
       "<Figure size 432x288 with 1 Axes>"
      ]
     },
     "metadata": {
      "needs_background": "light"
     },
     "output_type": "display_data"
    },
    {
     "data": {
      "text/plain": [
       "<Figure size 432x288 with 0 Axes>"
      ]
     },
     "metadata": {},
     "output_type": "display_data"
    }
   ],
   "source": [
    "x = np.linspace(-5, 5, 250)\n",
    "y = np.linspace(-5, 5, 250)\n",
    "\n",
    "xx, yy = np.meshgrid(x, y)\n",
    "\n",
    "w = 3\n",
    "zz = 500*np.exp(-2*(xx**2 + yy**2)/w)\n",
    "\n",
    "plt.imshow(zz,cmap='gray')\n",
    "plt.show()\n",
    "\n",
    "plt.savefig('gaussianbeam.png')"
   ]
  },
  {
   "cell_type": "code",
   "execution_count": 43,
   "id": "d1bf70f3",
   "metadata": {},
   "outputs": [
    {
     "name": "stdout",
     "output_type": "stream",
     "text": [
      "250 250\n",
      "-4.073053574160451e-18 1.6561417122458753e-18\n",
      "1.7320506057491336 1.7320506057491334\n"
     ]
    }
   ],
   "source": [
    "height = len(y)\n",
    "width = len(x)\n",
    "print(height,width)\n",
    "# Total intensity over the area\n",
    "N = zz.sum()\n",
    "\n",
    "# Centroid\n",
    "x_bar = np.multiply(xx,zz).sum()/N #elementwise multiplication\n",
    "y_bar = np.multiply(yy,zz).sum()/N\n",
    "print(x_bar,y_bar)\n",
    "\n",
    "# D4sig \n",
    "dis_x = xx - x_bar * np.ones([height,width])\n",
    "dis_sqr_x = np.multiply(dis_x,dis_x)\n",
    "\n",
    "var = np.multiply(dis_sqr_x, zz).sum()/N\n",
    "wx = np.sqrt(4 * var)\n",
    "\n",
    "dis_y = yy - y_bar * np.ones([height,width])\n",
    "dis_sqr_y = np.multiply(dis_y,dis_y)\n",
    "\n",
    "var = np.multiply(dis_sqr_y, zz).sum()/N\n",
    "wy = np.sqrt(4 * var)\n",
    "\n",
    "print(wx,wy)"
   ]
  },
  {
   "cell_type": "code",
   "execution_count": null,
   "id": "468bed99",
   "metadata": {},
   "outputs": [],
   "source": []
  }
 ],
 "metadata": {
  "kernelspec": {
   "display_name": "Python 3",
   "language": "python",
   "name": "python3"
  },
  "language_info": {
   "codemirror_mode": {
    "name": "ipython",
    "version": 3
   },
   "file_extension": ".py",
   "mimetype": "text/x-python",
   "name": "python",
   "nbconvert_exporter": "python",
   "pygments_lexer": "ipython3",
   "version": "3.8.8"
  }
 },
 "nbformat": 4,
 "nbformat_minor": 5
}
